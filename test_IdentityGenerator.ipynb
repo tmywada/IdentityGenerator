{
 "cells": [
  {
   "cell_type": "code",
   "execution_count": 1,
   "id": "74a71d84-15ea-4fe4-bac0-2f53e908443f",
   "metadata": {},
   "outputs": [],
   "source": [
    "from src.IdentityGenerator import *\n"
   ]
  },
  {
   "cell_type": "code",
   "execution_count": 2,
   "id": "a4be5f76-fcaa-46c1-bd67-a496f2b1bf1c",
   "metadata": {},
   "outputs": [],
   "source": [
    "names = generate_full_names(1000, None)"
   ]
  },
  {
   "cell_type": "code",
   "execution_count": 3,
   "id": "c166480f-8d69-4fca-8850-b54d492776bd",
   "metadata": {},
   "outputs": [
    {
     "data": {
      "text/plain": [
       "['David Jackson',\n",
       " 'Richard Thomas',\n",
       " 'Christopher Banks',\n",
       " 'Willie West',\n",
       " 'Allan Hanson',\n",
       " 'Harold Jimenez',\n",
       " 'Gene Guerrero',\n",
       " 'Louis Snyder',\n",
       " 'Donald Hall',\n",
       " 'James Williams',\n",
       " 'Johnny Freeman',\n",
       " 'Charles White',\n",
       " 'Andrew Ray',\n",
       " 'Thomas Robinson',\n",
       " 'David Jackson',\n",
       " 'Robert Garcia',\n",
       " 'Howard Porter',\n",
       " 'Marvin Hansen',\n",
       " 'James Johnson',\n",
       " 'Theodore Rios',\n",
       " 'Terry Gonzales',\n",
       " 'Chris Gregory',\n",
       " 'Perry Lowe',\n",
       " 'Ronald Nguyen',\n",
       " 'Michael Allen',\n",
       " 'Irvin Lara',\n",
       " 'George Parker',\n",
       " 'Michael King',\n",
       " 'James Williams',\n",
       " 'Franklin Williamson']"
      ]
     },
     "execution_count": 3,
     "metadata": {},
     "output_type": "execute_result"
    }
   ],
   "source": [
    "names[:30]"
   ]
  },
  {
   "cell_type": "code",
   "execution_count": 4,
   "id": "1e1e3e03-5a28-4aab-be89-68f5ba5cb604",
   "metadata": {},
   "outputs": [
    {
     "name": "stdout",
     "output_type": "stream",
     "text": [
      "--- first 5 generated sample names\n",
      "David Jackson\n",
      "Richard Thomas\n",
      "Christopher Banks\n",
      "Willie West\n",
      "Allan Hanson\n"
     ]
    }
   ],
   "source": [
    "!python ./src/IdentityGenerator.py --num_samples 100"
   ]
  },
  {
   "cell_type": "code",
   "execution_count": 5,
   "id": "70171505-d2b4-46ae-baa3-a75f54be8980",
   "metadata": {},
   "outputs": [
    {
     "name": "stdout",
     "output_type": "stream",
     "text": [
      "--- first 5 generated sample names\n",
      "David Jackson\n",
      "Richard Thomas\n",
      "Christopher Banks\n",
      "Willie West\n",
      "Allan Hanson\n"
     ]
    }
   ],
   "source": [
    "!python ./src/IdentityGenerator.py --num_samples 100 --output_path ./data/test.csv"
   ]
  },
  {
   "cell_type": "code",
   "execution_count": null,
   "id": "66840b76-9283-4bbc-a7ce-523076e3b550",
   "metadata": {},
   "outputs": [],
   "source": []
  }
 ],
 "metadata": {
  "kernelspec": {
   "display_name": "Python 3",
   "language": "python",
   "name": "python3"
  },
  "language_info": {
   "codemirror_mode": {
    "name": "ipython",
    "version": 3
   },
   "file_extension": ".py",
   "mimetype": "text/x-python",
   "name": "python",
   "nbconvert_exporter": "python",
   "pygments_lexer": "ipython3",
   "version": "3.8.8"
  }
 },
 "nbformat": 4,
 "nbformat_minor": 5
}
