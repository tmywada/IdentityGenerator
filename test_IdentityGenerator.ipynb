{
 "cells": [
  {
   "cell_type": "code",
   "execution_count": 19,
   "id": "74a71d84-15ea-4fe4-bac0-2f53e908443f",
   "metadata": {},
   "outputs": [],
   "source": [
    "from src.IdentityGenerator import *\n",
    "import matplotlib.pyplot as plt\n",
    "%matplotlib inline"
   ]
  },
  {
   "cell_type": "code",
   "execution_count": 6,
   "id": "a4be5f76-fcaa-46c1-bd67-a496f2b1bf1c",
   "metadata": {},
   "outputs": [],
   "source": [
    "names = generate_full_names(100, None)"
   ]
  },
  {
   "cell_type": "code",
   "execution_count": 7,
   "id": "c166480f-8d69-4fca-8850-b54d492776bd",
   "metadata": {},
   "outputs": [
    {
     "data": {
      "text/plain": [
       "['David Jackson',\n",
       " 'Richard Thomas',\n",
       " 'Christopher Banks',\n",
       " 'Willie West',\n",
       " 'Allan Hanson',\n",
       " 'Harold Jimenez',\n",
       " 'Gene Guerrero',\n",
       " 'Judith Snyder',\n",
       " 'Nancy Hall',\n",
       " 'Angela Williams',\n",
       " 'Carole Freeman',\n",
       " 'Lillie White',\n",
       " 'Doris Ray',\n",
       " 'Pauline Robinson',\n",
       " 'William Jackson',\n",
       " 'David Garcia',\n",
       " 'Reginald Porter',\n",
       " 'Peter Hansen',\n",
       " 'Duane Johnson',\n",
       " 'Terry Rios',\n",
       " 'Matthew Gonzales',\n",
       " 'Donna Gregory',\n",
       " 'Nancy Lowe',\n",
       " 'Josephine Nguyen',\n",
       " 'Katherine Allen',\n",
       " 'Delores Lara',\n",
       " 'Cathy Parker',\n",
       " 'Loretta King',\n",
       " 'William Williams',\n",
       " 'Mark Williamson']"
      ]
     },
     "execution_count": 7,
     "metadata": {},
     "output_type": "execute_result"
    }
   ],
   "source": [
    "names[:30]"
   ]
  },
  {
   "cell_type": "code",
   "execution_count": 4,
   "id": "1e1e3e03-5a28-4aab-be89-68f5ba5cb604",
   "metadata": {},
   "outputs": [
    {
     "name": "stdout",
     "output_type": "stream",
     "text": [
      "--- first 5 generated sample names\n",
      "David Jackson\n",
      "Richard Thomas\n",
      "Christopher Banks\n",
      "Willie West\n",
      "Allan Hanson\n"
     ]
    }
   ],
   "source": [
    "!python ./src/IdentityGenerator.py --num_samples 100"
   ]
  },
  {
   "cell_type": "code",
   "execution_count": 5,
   "id": "70171505-d2b4-46ae-baa3-a75f54be8980",
   "metadata": {},
   "outputs": [
    {
     "name": "stdout",
     "output_type": "stream",
     "text": [
      "--- first 5 generated sample names\n",
      "David Jackson\n",
      "Richard Thomas\n",
      "Christopher Banks\n",
      "Willie West\n",
      "Allan Hanson\n"
     ]
    }
   ],
   "source": [
    "!python ./src/IdentityGenerator.py --num_samples 100 --output_path ./data/test.csv"
   ]
  },
  {
   "cell_type": "markdown",
   "id": "dc817c2f-fd7c-43fd-9642-e56ac65adb12",
   "metadata": {},
   "source": [
    "# Benchmarking\n",
    "\n",
    "Most 400 names from both first and last name"
   ]
  },
  {
   "cell_type": "code",
   "execution_count": 13,
   "id": "66840b76-9283-4bbc-a7ce-523076e3b550",
   "metadata": {},
   "outputs": [
    {
     "name": "stdout",
     "output_type": "stream",
     "text": [
      "758 ms ± 45.5 ms per loop (mean ± std. dev. of 7 runs, 1 loop each)\n"
     ]
    }
   ],
   "source": [
    "%%timeit\n",
    "names_00000100 = generate_full_names(100, None)"
   ]
  },
  {
   "cell_type": "code",
   "execution_count": 14,
   "id": "0e31b3f1-7209-422a-bc7d-54ac8df0b447",
   "metadata": {},
   "outputs": [
    {
     "name": "stdout",
     "output_type": "stream",
     "text": [
      "724 ms ± 10.3 ms per loop (mean ± std. dev. of 7 runs, 1 loop each)\n"
     ]
    }
   ],
   "source": [
    "%%timeit\n",
    "names_00001000 = generate_full_names(1000, None)"
   ]
  },
  {
   "cell_type": "code",
   "execution_count": 15,
   "id": "284de3e4-62d0-43a8-81f6-8d29cd2668f6",
   "metadata": {},
   "outputs": [
    {
     "name": "stdout",
     "output_type": "stream",
     "text": [
      "706 ms ± 18 ms per loop (mean ± std. dev. of 7 runs, 1 loop each)\n"
     ]
    }
   ],
   "source": [
    "%%timeit\n",
    "names_00010000 = generate_full_names(10000, None)"
   ]
  },
  {
   "cell_type": "code",
   "execution_count": 16,
   "id": "cd64620f-e37c-4190-9eb7-376dd4a28559",
   "metadata": {},
   "outputs": [
    {
     "name": "stdout",
     "output_type": "stream",
     "text": [
      "768 ms ± 30 ms per loop (mean ± std. dev. of 7 runs, 1 loop each)\n"
     ]
    }
   ],
   "source": [
    "%%timeit\n",
    "names_00100000 = generate_full_names(100000, None)"
   ]
  },
  {
   "cell_type": "code",
   "execution_count": 17,
   "id": "52877c81-3e00-4629-82eb-fbd6ab5de8df",
   "metadata": {},
   "outputs": [
    {
     "name": "stdout",
     "output_type": "stream",
     "text": [
      "1.03 s ± 17.8 ms per loop (mean ± std. dev. of 7 runs, 1 loop each)\n"
     ]
    }
   ],
   "source": [
    "%%timeit\n",
    "names_01000000 = generate_full_names(1000000, None)"
   ]
  },
  {
   "cell_type": "code",
   "execution_count": 18,
   "id": "8fc551f0-312a-45b7-bcd4-0954696acaf8",
   "metadata": {},
   "outputs": [
    {
     "name": "stdout",
     "output_type": "stream",
     "text": [
      "3.92 s ± 99.5 ms per loop (mean ± std. dev. of 7 runs, 1 loop each)\n"
     ]
    }
   ],
   "source": [
    "%%timeit\n",
    "names_10000000 = generate_full_names(10000000, None)"
   ]
  },
  {
   "cell_type": "code",
   "execution_count": 24,
   "id": "0cfb409a-2202-496a-9880-b6b640f44bd9",
   "metadata": {},
   "outputs": [
    {
     "data": {
      "text/plain": [
       "Text(0, 0.5, 'elapsed time [s]')"
      ]
     },
     "execution_count": 24,
     "metadata": {},
     "output_type": "execute_result"
    },
    {
     "data": {
      "image/png": "[encoded data removed]",
      "text/plain": [
       "<Figure size 432x288 with 1 Axes>"
      ]
     },
     "metadata": {
      "needs_background": "light"
     },
     "output_type": "display_data"
    }
   ],
   "source": [
    "elapsed_times = [\n",
    "    0.758,\n",
    "    0.724,\n",
    "    0.706,\n",
    "    0.768,\n",
    "    1.03,\n",
    "    3.92\n",
    "]\n",
    "\n",
    "plt.loglog([100, 1000, 10000, 100000, 1000000, 10000000], elapsed_times, 'bo')\n",
    "plt.grid(True)\n",
    "plt.xlabel('number of full names generated')\n",
    "plt.ylabel('elapsed time [s]')\n"
   ]
  },
  {
   "cell_type": "code",
   "execution_count": 25,
   "id": "ede588a7-faa0-4029-8943-3aa18f3cff19",
   "metadata": {},
   "outputs": [],
   "source": [
    "names_00000100 = generate_full_names(100, None)\n",
    "names_00001000 = generate_full_names(1000, None)\n",
    "names_00010000 = generate_full_names(10000, None)\n",
    "names_00100000 = generate_full_names(100000, None)\n",
    "names_01000000 = generate_full_names(1000000, None)"
   ]
  },
  {
   "cell_type": "code",
   "execution_count": 29,
   "id": "6d1904b2-249e-461c-9ecc-6fb14eb3e0dc",
   "metadata": {},
   "outputs": [
    {
     "name": "stdout",
     "output_type": "stream",
     "text": [
      "Number of distinct names\n",
      "00000100: 100\n",
      "00001000: 984\n",
      "00010000: 8848\n",
      "00100000: 62530\n",
      "01000000: 254651\n"
     ]
    }
   ],
   "source": [
    "print('Number of distinct names')\n",
    "print(f'00000100: {len(set(names_00000100))}')\n",
    "print(f'00001000: {len(set(names_00001000))}')\n",
    "print(f'00010000: {len(set(names_00010000))}')\n",
    "print(f'00100000: {len(set(names_00100000))}')\n",
    "print(f'01000000: {len(set(names_01000000))}')\n"
   ]
  },
  {
   "cell_type": "code",
   "execution_count": null,
   "id": "464b979d-4e09-48ef-8cf5-576249e528c3",
   "metadata": {},
   "outputs": [],
   "source": []
  }
 ],
 "metadata": {
  "kernelspec": {
   "display_name": "Python 3",
   "language": "python",
   "name": "python3"
  },
  "language_info": {
   "codemirror_mode": {
    "name": "ipython",
    "version": 3
   },
   "file_extension": ".py",
   "mimetype": "text/x-python",
   "name": "python",
   "nbconvert_exporter": "python",
   "pygments_lexer": "ipython3",
   "version": "3.8.8"
  }
 },
 "nbformat": 4,
 "nbformat_minor": 5
}
