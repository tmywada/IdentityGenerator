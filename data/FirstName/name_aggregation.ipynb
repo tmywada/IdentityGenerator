{
 "cells": [
  {
   "cell_type": "code",
   "execution_count": 8,
   "id": "250f6a29-4f03-4a09-b7f2-06b34b0ac438",
   "metadata": {},
   "outputs": [],
   "source": [
    "import pandas as pd"
   ]
  },
  {
   "cell_type": "code",
   "execution_count": 9,
   "id": "0f172148-f63e-4d20-ae32-b84bd25cd765",
   "metadata": {},
   "outputs": [],
   "source": [
    "year_start = 1940\n",
    "year_end   = 2020"
   ]
  },
  {
   "cell_type": "code",
   "execution_count": 10,
   "id": "f6ab8f71-8c95-49f3-baef-244a9d0c2d3f",
   "metadata": {},
   "outputs": [
    {
     "name": "stdout",
     "output_type": "stream",
     "text": [
      "1940\n",
      "1950\n",
      "1960\n",
      "1970\n",
      "1980\n",
      "1990\n",
      "2000\n",
      "2010\n"
     ]
    }
   ],
   "source": [
    "for year_start in range(year_start, year_end, 10):\n",
    "    \n",
    "    # --- 10 years accumulation\n",
    "    _res_accumulated = []\n",
    "    for _year in range(10):\n",
    "        year = year_start + _year\n",
    "        file_name = f'./names/yob{year}.txt'\n",
    "        with open(file_name, 'r') as f:\n",
    "            for line in f:\n",
    "                tokens = line.split(',')\n",
    "                _res_accumulated.append(\n",
    "                    {\n",
    "                        'name': tokens[0].strip(),\n",
    "                        'gender': tokens[1].strip(),\n",
    "                        'count':int(tokens[2].strip()),\n",
    "                        'year': year                        \n",
    "                    }\n",
    "                )\n",
    "                \n",
    "    # --- aggregation (name + gender)\n",
    "    df_acc = pd.DataFrame.from_dict(_res_accumulated, orient = 'columns')\n",
    "    df_acc['name_gender'] = df_acc.name + '|' + df_acc.gender\n",
    "    name_gender_counts = dict(df_acc.groupby(by = 'name_gender')['count'].sum())\n",
    "    \n",
    "    # --- \n",
    "    _res_agg = []\n",
    "    for k,v in name_gender_counts.items():\n",
    "        name, gender = k.split('|')\n",
    "        _res_agg.append(\n",
    "            {\n",
    "                'name': name,\n",
    "                'gender': gender,\n",
    "                'count': v\n",
    "            }\n",
    "        )\n",
    "    df = pd.DataFrame.from_dict(_res_agg, orient = 'columns')\n",
    "    \n",
    "    # --- split data by gender\n",
    "    df_m = df[df.gender == 'M'][['name', 'count']].sort_values(by = 'count', ascending=False)\n",
    "    df_f = df[df.gender == 'F'][['name', 'count']].sort_values(by = 'count', ascending=False)\n",
    "    \n",
    "    # --- save dataframe\n",
    "    file_name_m = f'first_names_{year_start}s_male.csv'\n",
    "    file_name_f = f'first_names_{year_start}s_female.csv'\n",
    "    \n",
    "    df_m.to_csv(file_name_m, index = False, header = False)\n",
    "    df_f.to_csv(file_name_f, index = False, header = False)\n",
    "    \n",
    "    print(year_start)"
   ]
  },
  {
   "cell_type": "code",
   "execution_count": null,
   "id": "e329125b-4329-4238-86b1-812a247d56ca",
   "metadata": {},
   "outputs": [],
   "source": []
  }
 ],
 "metadata": {
  "kernelspec": {
   "display_name": "Python 3",
   "language": "python",
   "name": "python3"
  },
  "language_info": {
   "codemirror_mode": {
    "name": "ipython",
    "version": 3
   },
   "file_extension": ".py",
   "mimetype": "text/x-python",
   "name": "python",
   "nbconvert_exporter": "python",
   "pygments_lexer": "ipython3",
   "version": "3.8.8"
  }
 },
 "nbformat": 4,
 "nbformat_minor": 5
}
