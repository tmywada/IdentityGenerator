{
 "cells": [
  {
   "cell_type": "code",
   "execution_count": 1,
   "id": "630aa0ef-a441-44d2-9ca0-f0f14fff164b",
   "metadata": {},
   "outputs": [],
   "source": [
    "import pandas as pd"
   ]
  },
  {
   "cell_type": "code",
   "execution_count": 2,
   "id": "a9fcd116-7551-436e-a086-bdadb7ef1bdc",
   "metadata": {},
   "outputs": [],
   "source": [
    "file_name = 'Names_2010Census_Top1000.xlsx'"
   ]
  },
  {
   "cell_type": "code",
   "execution_count": null,
   "id": "2dea82e9-dfd4-4521-b4c4-39d75906a13f",
   "metadata": {},
   "outputs": [],
   "source": []
  },
  {
   "cell_type": "code",
   "execution_count": 31,
   "id": "5177eab2-689b-45f3-aa30-9bdcce1b3c17",
   "metadata": {},
   "outputs": [],
   "source": [
    "df_raw = pd.read_excel(file_name, skiprows=2)"
   ]
  },
  {
   "cell_type": "code",
   "execution_count": 37,
   "id": "e897cc97-32b8-46c1-9610-6914758be724",
   "metadata": {},
   "outputs": [],
   "source": [
    "df = df_raw[['SURNAME', 'FREQUENCY (COUNT)']][:1000]"
   ]
  },
  {
   "cell_type": "code",
   "execution_count": 38,
   "id": "3244c31b-df5b-4875-867f-3d4b71910562",
   "metadata": {},
   "outputs": [],
   "source": [
    "df = df.rename(columns = {'SURNAME':'name', 'FREQUENCY (COUNT)':'count' })"
   ]
  },
  {
   "cell_type": "code",
   "execution_count": 42,
   "id": "8820c57b-1096-472f-a1f6-68c3f2dac074",
   "metadata": {},
   "outputs": [],
   "source": [
    "df['count'] = df['count'].astype(int)\n",
    "df['name'] = df['name'].apply(lambda x: x.title())"
   ]
  },
  {
   "cell_type": "code",
   "execution_count": 44,
   "id": "2211d8b8-b3da-4832-a54f-94a98f8817e5",
   "metadata": {},
   "outputs": [],
   "source": [
    "df.to_csv('last_name.csv', index = False, header = False)"
   ]
  },
  {
   "cell_type": "code",
   "execution_count": null,
   "id": "70a415fa-3f93-4612-a309-485fdaea76c3",
   "metadata": {},
   "outputs": [],
   "source": []
  }
 ],
 "metadata": {
  "kernelspec": {
   "display_name": "Python 3",
   "language": "python",
   "name": "python3"
  },
  "language_info": {
   "codemirror_mode": {
    "name": "ipython",
    "version": 3
   },
   "file_extension": ".py",
   "mimetype": "text/x-python",
   "name": "python",
   "nbconvert_exporter": "python",
   "pygments_lexer": "ipython3",
   "version": "3.8.8"
  }
 },
 "nbformat": 4,
 "nbformat_minor": 5
}
